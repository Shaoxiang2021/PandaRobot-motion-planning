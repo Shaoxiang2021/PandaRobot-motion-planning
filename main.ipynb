{
 "cells": [
  {
   "cell_type": "code",
   "execution_count": 1,
   "metadata": {},
   "outputs": [],
   "source": [
    "from camera_roboter import CameraRoboter\n",
    "from math import pi\n",
    "import rospy"
   ]
  },
  {
   "cell_type": "code",
   "execution_count": 2,
   "metadata": {},
   "outputs": [
    {
     "name": "stdout",
     "output_type": "stream",
     "text": [
      "\u001b[0m[ INFO] [1685436699.035521600]: Loading robot model 'panda'...\u001b[0m\n",
      "\u001b[0m[ INFO] [1685436700.113140605]: Ready to take commands for planning group panda_arm.\u001b[0m\n",
      "initCamera returns 213\n",
      "SetColorMode IS_CM_BGR8_PACKED returns 1\n",
      "setExposure returns 1\n",
      "AOI IS_AOI_IMAGE_SET_AOI returns 1\n",
      "AllocImageMem returns 1\n",
      "SetImageMem returns 1\n",
      "CaptureVideo returns 1\n",
      "============ Planning frame: panda_link0\n",
      "============ End effector link: panda_link8\n",
      "============ Available Planning Groups: ['panda_arm']\n",
      "============ Printing robot state\n",
      "joint_state: \n",
      "  header: \n",
      "    seq: 0\n",
      "    stamp: \n",
      "      secs: 0\n",
      "      nsecs:         0\n",
      "    frame_id: \"panda_link0\"\n",
      "  name: \n",
      "    - panda_joint1\n",
      "    - panda_joint2\n",
      "    - panda_joint3\n",
      "    - panda_joint4\n",
      "    - panda_joint5\n",
      "    - panda_joint6\n",
      "    - panda_joint7\n",
      "  position: [-6.412450848208544e-05, -0.7857621713021538, 9.957918090577491e-05, -2.3556000207512082, -0.00019125962115885308, 1.571155472954114, -0.7854259103635947]\n",
      "  velocity: []\n",
      "  effort: []\n",
      "multi_dof_joint_state: \n",
      "  header: \n",
      "    seq: 0\n",
      "    stamp: \n",
      "      secs: 0\n",
      "      nsecs:         0\n",
      "    frame_id: \"panda_link0\"\n",
      "  joint_names: []\n",
      "  transforms: []\n",
      "  twist: []\n",
      "  wrench: []\n",
      "attached_collision_objects: []\n",
      "is_diff: False\n",
      "\n"
     ]
    }
   ],
   "source": [
    "CameraRoboterI = CameraRoboter(load_camera=True)"
   ]
  },
  {
   "cell_type": "code",
   "execution_count": 3,
   "metadata": {},
   "outputs": [],
   "source": [
    "CameraRoboterI.calibration()\n",
    "CameraRoboterI.return_to_ready_pose()"
   ]
  },
  {
   "cell_type": "code",
   "execution_count": 4,
   "metadata": {},
   "outputs": [
    {
     "data": {
      "text/plain": [
       "{'id': '5_008',\n",
       " 'speed': '500',\n",
       " 'rotate_speed': '2900',\n",
       " 'date': '06.11.19',\n",
       " 'training_label': [0, 0, 0, 0, 0, 0]}"
      ]
     },
     "execution_count": 4,
     "metadata": {},
     "output_type": "execute_result"
    }
   ],
   "source": [
    "dict_info = dict()\n",
    "dict_info['id'] = \"5_008\"\n",
    "dict_info['speed'] = \"500\"\n",
    "dict_info['rotate_speed'] = \"2900\"\n",
    "dict_info['date'] = \"06.11.19\"\n",
    "\n",
    "training_label = list(range(6))\n",
    "training_label[0] = 0\n",
    "training_label[1] = 0\n",
    "training_label[2] = 0\n",
    "training_label[3] = 0\n",
    "training_label[4] = 0\n",
    "training_label[5] = 0\n",
    "\n",
    "dict_info['training_label'] = training_label\n",
    "dict_info"
   ]
  },
  {
   "cell_type": "code",
   "execution_count": 5,
   "metadata": {},
   "outputs": [],
   "source": [
    "CameraRoboterI.DataManager.set_basic_info(dict_info)"
   ]
  },
  {
   "cell_type": "code",
   "execution_count": 6,
   "metadata": {},
   "outputs": [
    {
     "name": "stdout",
     "output_type": "stream",
     "text": [
      "image is saved als name: images/5_008_500_2900/0.42_50_0_0_0_0_0_0.jpg\n",
      "image is saved als name: images/5_008_500_2900/0.44_50_0_0_0_0_0_0.jpg\n",
      "image is saved als name: images/5_008_500_2900/0.45_50_0_0_0_0_0_0.jpg\n",
      "image is saved als name: images/5_008_500_2900/0.47_50_0_0_0_0_0_0.jpg\n",
      "image is saved als name: images/5_008_500_2900/0.48_50_0_0_0_0_0_0.jpg\n",
      "image is saved als name: images/5_008_500_2900/0.5_50_0_0_0_0_0_0.jpg\n"
     ]
    }
   ],
   "source": [
    "# Helligkeit\n",
    "\n",
    "CameraRoboterI.DataManager.set_brightness(50)\n",
    "\n",
    "CameraRoboterI.move_pose(CameraRoboterI.x_init, CameraRoboterI.y_init, CameraRoboterI.z_init, CameraRoboterI.roll_angle_init, CameraRoboterI.pitch_angle_init, CameraRoboterI.yaw_angel_init, save_image=True)\n",
    "CameraRoboterI.move_linear_trajectory(0.016, 5, save_image=True)\n",
    "\n",
    "CameraRoboterI.return_to_ready_pose()"
   ]
  },
  {
   "cell_type": "code",
   "execution_count": 12,
   "metadata": {},
   "outputs": [
    {
     "name": "stdout",
     "output_type": "stream",
     "text": [
      "image is saved als name: images/5_008_500_2900/0.42_50_0.04_0_0_0_0_0.jpg\n",
      "image is saved als name: images/5_008_500_2900/0.44_50_0.04_0_0_0_0_0.jpg\n",
      "image is saved als name: images/5_008_500_2900/0.45_50_0.04_0_0_0_0_0.jpg\n",
      "image is saved als name: images/5_008_500_2900/0.47_50_0.04_0_0_0_0_0.jpg\n",
      "image is saved als name: images/5_008_500_2900/0.48_50_0.04_0_0_0_0_0.jpg\n",
      "image is saved als name: images/5_008_500_2900/0.5_50_0.04_0_0_0_0_0.jpg\n"
     ]
    }
   ],
   "source": [
    "# Drehen um x\n",
    "\n",
    "CameraRoboterI.DataManager.set_brightness(50)\n",
    "\n",
    "CameraRoboterI.move_pose(CameraRoboterI.x_init, CameraRoboterI.y_init, CameraRoboterI.z_init, CameraRoboterI.roll_angle_init, CameraRoboterI.pitch_angle_init, CameraRoboterI.yaw_angel_init)\n",
    "\n",
    "angle = CameraRoboterI.DataManager.set_rotate_angle_x(pi/75)\n",
    "CameraRoboterI.change_angle(angle)\n",
    "CameraRoboterI.get_image(take_image=True, image_index=0)\n",
    "CameraRoboterI.move_linear_trajectory(0.016, 5, save_image=True)\n",
    "\n",
    "CameraRoboterI.return_to_ready_pose()"
   ]
  },
  {
   "cell_type": "code",
   "execution_count": 19,
   "metadata": {},
   "outputs": [
    {
     "name": "stdout",
     "output_type": "stream",
     "text": [
      "image is saved als name: images/5_008_500_2900/0.42_50_0.04_-0.13_0_0_0_0.jpg\n",
      "image is saved als name: images/5_008_500_2900/0.44_50_0.04_-0.13_0_0_0_0.jpg\n",
      "image is saved als name: images/5_008_500_2900/0.45_50_0.04_-0.13_0_0_0_0.jpg\n",
      "image is saved als name: images/5_008_500_2900/0.47_50_0.04_-0.13_0_0_0_0.jpg\n",
      "image is saved als name: images/5_008_500_2900/0.48_50_0.04_-0.13_0_0_0_0.jpg\n",
      "image is saved als name: images/5_008_500_2900/0.5_50_0.04_-0.13_0_0_0_0.jpg\n"
     ]
    }
   ],
   "source": [
    "# Drehen um z\n",
    "\n",
    "CameraRoboterI.DataManager.set_brightness(50)\n",
    "\n",
    "angle = CameraRoboterI.DataManager.set_rotate_angle_z(-pi/25)\n",
    "CameraRoboterI.rotate(angle)\n",
    "CameraRoboterI.move_position(CameraRoboterI.x_init, CameraRoboterI.y_init, CameraRoboterI.z_init, save_image=True)\n",
    "CameraRoboterI.move_linear_trajectory(0.016, 5, save_image=True)\n",
    "\n",
    "CameraRoboterI.return_to_ready_pose()"
   ]
  },
  {
   "cell_type": "code",
   "execution_count": 6,
   "metadata": {},
   "outputs": [
    {
     "name": "stdout",
     "output_type": "stream",
     "text": [
      "StopLiveVideo returns 0\n",
      "ExitCamera returns 0\n",
      "image is saved als name: images/5_008_500_2900/0.43_50_0_0_0_0_0_0.jpg\n",
      "image is saved als name: images/5_008_500_2900/0.45_50_0_0_0_0_0_0.jpg\n",
      "image is saved als name: images/5_008_500_2900/0.46_50_0_0_0_0_0_0.jpg\n",
      "image is saved als name: images/5_008_500_2900/0.48_50_0_0_0_0_0_0.jpg\n",
      "image is saved als name: images/5_008_500_2900/0.49_50_0_0_0_0_0_0.jpg\n",
      "image is saved als name: images/5_008_500_2900/0.51_50_0_0_0_0_0_0.jpg\n"
     ]
    }
   ],
   "source": [
    "# displancement in z, manuell blur\n",
    "\n",
    "CameraRoboterI.DataManager.set_brightness(50)\n",
    "\n",
    "CameraRoboterI.move_position(CameraRoboterI.x_init, CameraRoboterI.y_init, CameraRoboterI.z_init)\n",
    "CameraRoboterI.get_video_stream()\n",
    "\n",
    "CameraRoboterI.move_pose(CameraRoboterI.x_init, CameraRoboterI.y_init, CameraRoboterI.z_init, CameraRoboterI.roll_angle_init, CameraRoboterI.pitch_angle_init, CameraRoboterI.yaw_angel_init, save_image=True)\n",
    "CameraRoboterI.move_linear_trajectory(0.016, 5, save_image=True)\n",
    "\n",
    "CameraRoboterI.return_to_ready_pose()"
   ]
  },
  {
   "cell_type": "code",
   "execution_count": 3,
   "metadata": {},
   "outputs": [
    {
     "name": "stdout",
     "output_type": "stream",
     "text": [
      "StopLiveVideo returns 1\n",
      "ExitCamera returns 1\n"
     ]
    }
   ],
   "source": [
    "CameraRoboterI.close_camera()"
   ]
  }
 ],
 "metadata": {
  "kernelspec": {
   "display_name": "Python 3",
   "language": "python",
   "name": "python3"
  },
  "language_info": {
   "codemirror_mode": {
    "name": "ipython",
    "version": 3
   },
   "file_extension": ".py",
   "mimetype": "text/x-python",
   "name": "python",
   "nbconvert_exporter": "python",
   "pygments_lexer": "ipython3",
   "version": "3.8.10"
  },
  "orig_nbformat": 4
 },
 "nbformat": 4,
 "nbformat_minor": 2
}
