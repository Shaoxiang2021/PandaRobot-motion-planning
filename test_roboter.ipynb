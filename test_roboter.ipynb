{
 "cells": [
  {
   "cell_type": "code",
   "execution_count": 1,
   "metadata": {},
   "outputs": [
    {
     "name": "stdout",
     "output_type": "stream",
     "text": [
      "\u001b[0m[ INFO] [1684941610.170270658]: Loading robot model 'panda'...\u001b[0m\n",
      "\u001b[0m[ INFO] [1684941611.430309609]: Ready to take commands for planning group panda_arm.\u001b[0m\n",
      "initCamera returns 0\n",
      "SetColorMode IS_CM_BGR8_PACKED returns 0\n",
      "setExposure returns 0\n",
      "AOI IS_AOI_IMAGE_SET_AOI returns 0\n",
      "AllocImageMem returns 0\n",
      "SetImageMem returns 0\n",
      "CaptureVideo returns 0\n",
      "Initialize workspace...\n",
      "============ Planning frame: panda_link0\n",
      "============ End effector link: panda_link8\n",
      "============ Available Planning Groups: ['panda_arm']\n",
      "============ Printing robot state\n",
      "joint_state: \n",
      "  header: \n",
      "    seq: 0\n",
      "    stamp: \n",
      "      secs: 0\n",
      "      nsecs:         0\n",
      "    frame_id: \"panda_link0\"\n",
      "  name: \n",
      "    - panda_joint1\n",
      "    - panda_joint2\n",
      "    - panda_joint3\n",
      "    - panda_joint4\n",
      "    - panda_joint5\n",
      "    - panda_joint6\n",
      "    - panda_joint7\n",
      "  position: [5.05358287508052e-05, -0.7856936800888394, -1.8627134998940042e-05, -2.355917303626665, 5.01416198093568e-07, 1.5711939553022385, -0.7852781981308934]\n",
      "  velocity: []\n",
      "  effort: []\n",
      "multi_dof_joint_state: \n",
      "  header: \n",
      "    seq: 0\n",
      "    stamp: \n",
      "      secs: 0\n",
      "      nsecs:         0\n",
      "    frame_id: \"panda_link0\"\n",
      "  joint_names: []\n",
      "  transforms: []\n",
      "  twist: []\n",
      "  wrench: []\n",
      "attached_collision_objects: []\n",
      "is_diff: False\n",
      "\n",
      "Überprüfen bitte die Info ...\n",
      "\n",
      "Probe-ID = 5-008\n",
      "Vorschubgeschwindigkeit = 500\n",
      "Drehzahl = 2900\n",
      "Datum lautet: 06.11.19\n",
      "Index: 0\n",
      "\n",
      "\n",
      "start to chapture the images...\n",
      "--------------------------------\n",
      "probe-ID = 5-008\n",
      "speed = 500\n",
      "rotate speed = 2900\n",
      "date at: 06.11.19\n",
      "index: 0\n",
      "\n",
      "image is saved als name: images/0_5-008_500_2900/0_0.42_50_0_0.jpg\n",
      "image is saved als name: images/0_5-008_500_2900/0_0.44_50_0_0.jpg\n",
      "image is saved als name: images/0_5-008_500_2900/0_0.45_50_0_0.jpg\n",
      "image is saved als name: images/0_5-008_500_2900/0_0.47_50_0_0.jpg\n",
      "image is saved als name: images/0_5-008_500_2900/0_0.48_50_0_0.jpg\n",
      "image is saved als name: images/0_5-008_500_2900/0_0.5_50_0_0.jpg\n",
      "image is saved als name: images/0_5-008_500_2900/0_0.52_50_0_0.jpg\n",
      "image is saved als name: images/0_5-008_500_2900/0_0.42_70_0_0.jpg\n",
      "image is saved als name: images/0_5-008_500_2900/0_0.44_70_0_0.jpg\n",
      "image is saved als name: images/0_5-008_500_2900/0_0.45_70_0_0.jpg\n",
      "image is saved als name: images/0_5-008_500_2900/0_0.47_70_0_0.jpg\n",
      "image is saved als name: images/0_5-008_500_2900/0_0.48_70_0_0.jpg\n",
      "image is saved als name: images/0_5-008_500_2900/0_0.5_70_0_0.jpg\n",
      "image is saved als name: images/0_5-008_500_2900/0_0.52_70_0_0.jpg\n",
      "image is saved als name: images/0_5-008_500_2900/0_0.42_30_0_0.jpg\n",
      "image is saved als name: images/0_5-008_500_2900/0_0.44_30_0_0.jpg\n",
      "image is saved als name: images/0_5-008_500_2900/0_0.45_30_0_0.jpg\n",
      "image is saved als name: images/0_5-008_500_2900/0_0.47_30_0_0.jpg\n",
      "image is saved als name: images/0_5-008_500_2900/0_0.48_30_0_0.jpg\n",
      "image is saved als name: images/0_5-008_500_2900/0_0.5_30_0_0.jpg\n",
      "image is saved als name: images/0_5-008_500_2900/0_0.52_30_0_0.jpg\n",
      "StopLiveVideo returns 0\n",
      "ExitCamera returns 0\n"
     ]
    }
   ],
   "source": [
    "from camera_roboter import CameraRoboter\n",
    "from math import pi\n",
    "import rospy\n",
    "\n",
    "CameraRoboterI = CameraRoboter(load_camera=True)\n",
    "CameraRoboterI.take_action(save_image=True)"
   ]
  },
  {
   "cell_type": "code",
   "execution_count": 4,
   "metadata": {},
   "outputs": [
    {
     "ename": "TypeError",
     "evalue": "print_and_write_into_log() missing 1 required positional argument: 'text'",
     "output_type": "error",
     "traceback": [
      "\u001b[0;31m---------------------------------------------------------------------------\u001b[0m",
      "\u001b[0;31mTypeError\u001b[0m                                 Traceback (most recent call last)",
      "Cell \u001b[0;32mIn[4], line 1\u001b[0m\n\u001b[0;32m----> 1\u001b[0m CameraRoboterI\u001b[39m.\u001b[39;49mCamera\u001b[39m.\u001b[39;49mclose()\n",
      "File \u001b[0;32m~/catkin_ws/src/move_robot/scripts/ueye_camera.py:58\u001b[0m, in \u001b[0;36mUeyeCamera.close\u001b[0;34m(self)\u001b[0m\n\u001b[1;32m     56\u001b[0m \u001b[39mdef\u001b[39;00m \u001b[39mclose\u001b[39m(\u001b[39mself\u001b[39m):\n\u001b[1;32m     57\u001b[0m     ret \u001b[39m=\u001b[39m ueye\u001b[39m.\u001b[39mis_StopLiveVideo(\u001b[39mself\u001b[39m\u001b[39m.\u001b[39mhcam, ueye\u001b[39m.\u001b[39mIS_FORCE_VIDEO_STOP)\n\u001b[0;32m---> 58\u001b[0m     \u001b[39mself\u001b[39m\u001b[39m.\u001b[39mDataManager\u001b[39m.\u001b[39mprint_and_write_into_log(\u001b[39mf\u001b[39m\u001b[39m\"\u001b[39m\u001b[39mStopLiveVideo returns \u001b[39m\u001b[39m{\u001b[39;00mret\u001b[39m}\u001b[39;00m\u001b[39m\"\u001b[39m)\n\u001b[1;32m     59\u001b[0m     ret \u001b[39m=\u001b[39m ueye\u001b[39m.\u001b[39mis_ExitCamera(\u001b[39mself\u001b[39m\u001b[39m.\u001b[39mhcam)\n\u001b[1;32m     60\u001b[0m     \u001b[39mself\u001b[39m\u001b[39m.\u001b[39mDataManager\u001b[39m.\u001b[39mprint_and_write_into_log(\u001b[39mf\u001b[39m\u001b[39m\"\u001b[39m\u001b[39mExitCamera returns \u001b[39m\u001b[39m{\u001b[39;00mret\u001b[39m}\u001b[39;00m\u001b[39m\"\u001b[39m)\n",
      "\u001b[0;31mTypeError\u001b[0m: print_and_write_into_log() missing 1 required positional argument: 'text'"
     ]
    }
   ],
   "source": [
    "CameraRoboterI.Camera.close()"
   ]
  },
  {
   "cell_type": "code",
   "execution_count": 2,
   "metadata": {},
   "outputs": [
    {
     "name": "stdout",
     "output_type": "stream",
     "text": [
      "initCamera returns 0\n",
      "SetColorMode IS_CM_BGR8_PACKED returns 0\n",
      "setExposure returns 0\n",
      "AOI IS_AOI_IMAGE_SET_AOI returns 0\n",
      "AllocImageMem returns 0\n",
      "SetImageMem returns 0\n",
      "CaptureVideo returns 0\n"
     ]
    }
   ],
   "source": [
    "from ueye_camera import UeyeCamera\n",
    "camera = UeyeCamera()"
   ]
  },
  {
   "cell_type": "code",
   "execution_count": 3,
   "metadata": {},
   "outputs": [
    {
     "name": "stdout",
     "output_type": "stream",
     "text": [
      "StopLiveVideo returns 0\n",
      "ExitCamera returns 0\n"
     ]
    }
   ],
   "source": [
    "camera.get_video_stream()"
   ]
  },
  {
   "cell_type": "code",
   "execution_count": 2,
   "metadata": {},
   "outputs": [
    {
     "ename": "NameError",
     "evalue": "name 'camera' is not defined",
     "output_type": "error",
     "traceback": [
      "\u001b[0;31m---------------------------------------------------------------------------\u001b[0m",
      "\u001b[0;31mNameError\u001b[0m                                 Traceback (most recent call last)",
      "Cell \u001b[0;32mIn[2], line 1\u001b[0m\n\u001b[0;32m----> 1\u001b[0m camera\u001b[39m.\u001b[39mclose()\n",
      "\u001b[0;31mNameError\u001b[0m: name 'camera' is not defined"
     ]
    }
   ],
   "source": [
    "camera.close()"
   ]
  }
 ],
 "metadata": {
  "kernelspec": {
   "display_name": "Python 3",
   "language": "python",
   "name": "python3"
  },
  "language_info": {
   "codemirror_mode": {
    "name": "ipython",
    "version": 3
   },
   "file_extension": ".py",
   "mimetype": "text/x-python",
   "name": "python",
   "nbconvert_exporter": "python",
   "pygments_lexer": "ipython3",
   "version": "3.8.10"
  },
  "orig_nbformat": 4
 },
 "nbformat": 4,
 "nbformat_minor": 2
}
