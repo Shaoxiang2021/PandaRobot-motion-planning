{
 "cells": [
  {
   "cell_type": "code",
   "execution_count": 15,
   "metadata": {},
   "outputs": [
    {
     "name": "stdout",
     "output_type": "stream",
     "text": [
      "\u001b[0m[ INFO] [1685545785.718261400]: Ready to take commands for planning group panda_arm.\u001b[0m\n",
      "Initialize workspace...\n",
      "============ Planning frame: panda_link0\n",
      "============ End effector link: panda_link8\n",
      "============ Available Planning Groups: ['panda_arm']\n",
      "============ Printing robot state\n",
      "joint_state: \n",
      "  header: \n",
      "    seq: 0\n",
      "    stamp: \n",
      "      secs: 0\n",
      "      nsecs:         0\n",
      "    frame_id: \"panda_link0\"\n",
      "  name: \n",
      "    - panda_joint1\n",
      "    - panda_joint2\n",
      "    - panda_joint3\n",
      "    - panda_joint4\n",
      "    - panda_joint5\n",
      "    - panda_joint6\n",
      "    - panda_joint7\n",
      "  position: [-0.0001641861579581082, -0.7859790192737911, 0.0002297950080358995, -2.355596680724814, -0.0006081958551787667, 1.5717916353062646, -0.784943587988615]\n",
      "  velocity: []\n",
      "  effort: []\n",
      "multi_dof_joint_state: \n",
      "  header: \n",
      "    seq: 0\n",
      "    stamp: \n",
      "      secs: 0\n",
      "      nsecs:         0\n",
      "    frame_id: \"panda_link0\"\n",
      "  joint_names: []\n",
      "  transforms: []\n",
      "  twist: []\n",
      "  wrench: []\n",
      "attached_collision_objects: []\n",
      "is_diff: False\n",
      "\n"
     ]
    }
   ],
   "source": [
    "from camera_roboter import CameraRoboter\n",
    "from math import pi\n",
    "import rospy\n",
    "\n",
    "CameraRoboterI = CameraRoboter(load_camera=True)"
   ]
  },
  {
   "cell_type": "code",
   "execution_count": 16,
   "metadata": {},
   "outputs": [
    {
     "name": "stdout",
     "output_type": "stream",
     "text": [
      "initCamera returns 0\n",
      "SetColorMode IS_CM_BGR8_PACKED returns 0\n",
      "setExposure returns 0\n",
      "AOI IS_AOI_IMAGE_SET_AOI returns 0\n",
      "AllocImageMem returns 0\n",
      "SetImageMem returns 0\n",
      "CaptureVideo returns 0\n",
      "StopLiveVideo returns 0\n",
      "ExitCamera returns 0\n"
     ]
    }
   ],
   "source": [
    "try:\n",
    "    CameraRoboterI.Camera.init_camera()\n",
    "    CameraRoboterI.move_position(CameraRoboterI.x_init, CameraRoboterI.y_init, CameraRoboterI.z_init)\n",
    "    CameraRoboterI.get_video_stream()\n",
    "finally:\n",
    "    CameraRoboterI.Camera.close()\n",
    "    CameraRoboterI.return_to_ready_pose()"
   ]
  },
  {
   "cell_type": "code",
   "execution_count": 3,
   "metadata": {},
   "outputs": [
    {
     "name": "stdout",
     "output_type": "stream",
     "text": [
      "initCamera returns 0\n",
      "SetColorMode IS_CM_BGR8_PACKED returns 0\n",
      "setExposure returns 0\n",
      "AOI IS_AOI_IMAGE_SET_AOI returns 0\n",
      "AllocImageMem returns 0\n",
      "SetImageMem returns 0\n",
      "CaptureVideo returns 0\n",
      "StopLiveVideo returns 0\n",
      "ExitCamera returns 0\n"
     ]
    }
   ],
   "source": [
    "try:\n",
    "    CameraRoboterI.Camera.init_camera()\n",
    "    CameraRoboterI.calibration(0.016, 5)\n",
    "finally:\n",
    "    CameraRoboterI.Camera.close()"
   ]
  },
  {
   "cell_type": "code",
   "execution_count": 4,
   "metadata": {},
   "outputs": [
    {
     "data": {
      "text/plain": [
       "{'id': '5_004',\n",
       " 'speed': '500',\n",
       " 'rotate_speed': '2100',\n",
       " 'date': '06.11.19',\n",
       " 'training_label': [0, 1, 0, 0, 0, 0]}"
      ]
     },
     "execution_count": 4,
     "metadata": {},
     "output_type": "execute_result"
    }
   ],
   "source": [
    "dict_info = dict()\n",
    "dict_info['id'] = \"5_004\"\n",
    "dict_info['speed'] = \"500\"\n",
    "dict_info['rotate_speed'] = \"2100\"\n",
    "dict_info['date'] = \"06.11.19\"\n",
    "\n",
    "training_label = list(range(6))\n",
    "training_label[0] = 0\n",
    "training_label[1] = 1\n",
    "training_label[2] = 0\n",
    "training_label[3] = 0\n",
    "training_label[4] = 0\n",
    "training_label[5] = 0\n",
    "\n",
    "dict_info['training_label'] = training_label\n",
    "CameraRoboterI.DataManager.set_basic_info(dict_info)\n",
    "dict_info"
   ]
  },
  {
   "cell_type": "code",
   "execution_count": 21,
   "metadata": {},
   "outputs": [
    {
     "name": "stdout",
     "output_type": "stream",
     "text": [
      "initCamera returns 0\n",
      "SetColorMode IS_CM_BGR8_PACKED returns 0\n",
      "setExposure returns 0\n",
      "AOI IS_AOI_IMAGE_SET_AOI returns 0\n",
      "AllocImageMem returns 0\n",
      "SetImageMem returns 0\n",
      "CaptureVideo returns 0\n",
      "image is saved als name: images/5_004_500_2100/0.43_0_0_0_0_0_0_0.jpg\n",
      "image is saved als name: images/5_004_500_2100/0.45_0_0_0_0_0_0_1.jpg\n",
      "image is saved als name: images/5_004_500_2100/0.46_0_0_0_0_0_0_0.jpg\n",
      "image is saved als name: images/5_004_500_2100/0.48_0_0_0_0_0_0_0.jpg\n",
      "image is saved als name: images/5_004_500_2100/0.49_0_0_0_0_0_0_0.jpg\n",
      "image is saved als name: images/5_004_500_2100/0.51_0_0_0_0_0_0_0.jpg\n",
      "StopLiveVideo returns 0\n",
      "ExitCamera returns 0\n"
     ]
    }
   ],
   "source": [
    "# Helligkeit\n",
    "\n",
    "try:\n",
    "\n",
    "    CameraRoboterI.Camera.init_camera()\n",
    "    CameraRoboterI.DataManager.set_brightness(0)\n",
    "\n",
    "    CameraRoboterI.move_pose(CameraRoboterI.x_init, CameraRoboterI.y_init, CameraRoboterI.z_init, CameraRoboterI.roll_angle_init, CameraRoboterI.pitch_angle_init, CameraRoboterI.yaw_angel_init, save_image=True)\n",
    "    CameraRoboterI.move_linear_trajectory(0.016, 5, save_image=True)\n",
    "\n",
    "finally:\n",
    "    CameraRoboterI.Camera.close()\n",
    "    CameraRoboterI.return_to_ready_pose()\n",
    "    \n",
    "CameraRoboterI.DataManager.set_brightness(50)\n"
   ]
  },
  {
   "cell_type": "code",
   "execution_count": 9,
   "metadata": {},
   "outputs": [
    {
     "data": {
      "text/plain": [
       "0"
      ]
     },
     "execution_count": 9,
     "metadata": {},
     "output_type": "execute_result"
    }
   ],
   "source": [
    "# Drehen um x\n",
    "\n",
    "try:\n",
    "    CameraRoboterI.Camera.init_camera()\n",
    "    CameraRoboterI.DataManager.set_brightness(50)\n",
    "\n",
    "    CameraRoboterI.move_position(CameraRoboterI.x_init, CameraRoboterI.y_init, CameraRoboterI.z_init)\n",
    "\n",
    "    angle = CameraRoboterI.DataManager.set_rotate_angle_x(pi/25)\n",
    "    CameraRoboterI.change_angle(angle)\n",
    "    CameraRoboterI.get_image(take_image=True, image_index=0)\n",
    "    CameraRoboterI.move_linear_trajectory(0.016, 5, save_image=True)\n",
    "\n",
    "finally:\n",
    "    CameraRoboterI.Camera.close()\n",
    "    CameraRoboterI.return_to_ready_pose()\n",
    "\n",
    "CameraRoboterI.DataManager.set_rotate_angle_x(0)"
   ]
  },
  {
   "cell_type": "code",
   "execution_count": 13,
   "metadata": {},
   "outputs": [],
   "source": [
    "# Drehen um x Bild zentieren\n",
    "\"\"\"\n",
    "pi/25: 0.004\n",
    "pi/50: 0.003\n",
    "pi/75: 0.0025\n",
    "pi/100: 0.002\n",
    "\"\"\"\n",
    "\n",
    "CameraRoboterI.return_to_ready_pose()\n",
    "CameraRoboterI.move_position(CameraRoboterI.x_init, CameraRoboterI.y_init+0.002, CameraRoboterI.z_init)\n",
    "angle = CameraRoboterI.DataManager.set_rotate_angle_x(pi/100)\n",
    "CameraRoboterI.change_angle(angle)\n",
    "CameraRoboterI.get_image(take_image=False, image_index=0)"
   ]
  },
  {
   "cell_type": "code",
   "execution_count": 15,
   "metadata": {},
   "outputs": [
    {
     "name": "stdout",
     "output_type": "stream",
     "text": [
      "initCamera returns 0\n",
      "SetColorMode IS_CM_BGR8_PACKED returns 0\n",
      "setExposure returns 0\n",
      "AOI IS_AOI_IMAGE_SET_AOI returns 0\n",
      "AllocImageMem returns 0\n",
      "SetImageMem returns 0\n",
      "CaptureVideo returns 0\n",
      "image is saved als name: images/5_004_500_2100/0.43_50_0_0.03_0_0_0_0.jpg\n",
      "image is saved als name: images/5_004_500_2100/0.45_50_0_0.03_0_0_0_1.jpg\n",
      "image is saved als name: images/5_004_500_2100/0.46_50_0_0.03_0_0_0_0.jpg\n",
      "image is saved als name: images/5_004_500_2100/0.48_50_0_0.03_0_0_0_0.jpg\n",
      "image is saved als name: images/5_004_500_2100/0.49_50_0_0.03_0_0_0_0.jpg\n",
      "image is saved als name: images/5_004_500_2100/0.51_50_0_0.03_0_0_0_0.jpg\n",
      "StopLiveVideo returns 0\n",
      "ExitCamera returns 0\n"
     ]
    },
    {
     "data": {
      "text/plain": [
       "0"
      ]
     },
     "execution_count": 15,
     "metadata": {},
     "output_type": "execute_result"
    }
   ],
   "source": [
    "# Drehen um z\n",
    "\n",
    "try:\n",
    "    CameraRoboterI.Camera.init_camera()\n",
    "    CameraRoboterI.DataManager.set_brightness(50)\n",
    "\n",
    "    angle = CameraRoboterI.DataManager.set_rotate_angle_z(pi/100)\n",
    "    CameraRoboterI.rotate(angle)\n",
    "    CameraRoboterI.move_position(CameraRoboterI.x_init, CameraRoboterI.y_init, CameraRoboterI.z_init, save_image=True)\n",
    "    CameraRoboterI.move_linear_trajectory(0.016, 5, save_image=True)\n",
    "\n",
    "finally:\n",
    "    CameraRoboterI.Camera.close()\n",
    "    CameraRoboterI.return_to_ready_pose()\n",
    "\n",
    "CameraRoboterI.DataManager.set_rotate_angle_z(0)"
   ]
  },
  {
   "cell_type": "code",
   "execution_count": 20,
   "metadata": {},
   "outputs": [
    {
     "data": {
      "text/plain": [
       "0"
      ]
     },
     "execution_count": 20,
     "metadata": {},
     "output_type": "execute_result"
    }
   ],
   "source": [
    "# Bild zentieren drehen um z\n",
    "\n",
    "\"\"\"\n",
    "pi/100: 0.001\n",
    "pi/75: 0.0015\n",
    "pi/50: 0.002\n",
    "pi/25: 0.0035\n",
    "\"\"\"\n",
    "\n",
    "CameraRoboterI.return_to_ready_pose()\n",
    "angle = CameraRoboterI.DataManager.set_rotate_angle_z(pi/25)\n",
    "CameraRoboterI.rotate(angle)\n",
    "CameraRoboterI.move_position(CameraRoboterI.x_init, CameraRoboterI.y_init-0.0035, CameraRoboterI.z_init, save_image=False)\n"
   ]
  },
  {
   "cell_type": "code",
   "execution_count": 17,
   "metadata": {},
   "outputs": [
    {
     "name": "stdout",
     "output_type": "stream",
     "text": [
      "initCamera returns 0\n",
      "SetColorMode IS_CM_BGR8_PACKED returns 0\n",
      "setExposure returns 0\n",
      "AOI IS_AOI_IMAGE_SET_AOI returns 0\n",
      "AllocImageMem returns 0\n",
      "SetImageMem returns 0\n",
      "CaptureVideo returns 0\n",
      "image is saved als name: images/5_004_500_2100/0.43_50_0_0_0_1_0_0.jpg\n",
      "image is saved als name: images/5_004_500_2100/0.45_50_0_0_0_1_0_1.jpg\n",
      "image is saved als name: images/5_004_500_2100/0.46_50_0_0_0_1_0_0.jpg\n",
      "image is saved als name: images/5_004_500_2100/0.48_50_0_0_0_1_0_0.jpg\n",
      "image is saved als name: images/5_004_500_2100/0.49_50_0_0_0_1_0_0.jpg\n",
      "image is saved als name: images/5_004_500_2100/0.51_50_0_0_0_1_0_0.jpg\n",
      "StopLiveVideo returns 0\n",
      "ExitCamera returns 0\n"
     ]
    }
   ],
   "source": [
    "# blur, manuell blur\n",
    "\n",
    "try:\n",
    "\n",
    "    CameraRoboterI.Camera.init_camera()\n",
    "    CameraRoboterI.DataManager.set_brightness(50)\n",
    "\n",
    "    CameraRoboterI.DataManager.set_zoom_blur(1)\n",
    "    CameraRoboterI.move_pose(CameraRoboterI.x_init, CameraRoboterI.y_init, CameraRoboterI.z_init, CameraRoboterI.roll_angle_init, CameraRoboterI.pitch_angle_init, CameraRoboterI.yaw_angel_init, save_image=True)\n",
    "    CameraRoboterI.move_linear_trajectory(0.016, 5, save_image=True)\n",
    "\n",
    "finally:\n",
    "\n",
    "    CameraRoboterI.Camera.close()\n",
    "    CameraRoboterI.return_to_ready_pose()\n",
    "\n",
    "CameraRoboterI.DataManager.set_zoom_blur(0)"
   ]
  },
  {
   "cell_type": "code",
   "execution_count": 9,
   "metadata": {},
   "outputs": [
    {
     "name": "stdout",
     "output_type": "stream",
     "text": [
      "image is saved als name: images/5_008_500_2900/0.43_50_0_0_-0.01_0_0_0.jpg\n",
      "image is saved als name: images/5_008_500_2900/0.45_50_0_0_-0.01_0_0_0.jpg\n",
      "image is saved als name: images/5_008_500_2900/0.46_50_0_0_-0.01_0_0_0.jpg\n",
      "image is saved als name: images/5_008_500_2900/0.48_50_0_0_-0.01_0_0_0.jpg\n",
      "image is saved als name: images/5_008_500_2900/0.49_50_0_0_-0.01_0_0_0.jpg\n",
      "image is saved als name: images/5_008_500_2900/0.51_50_0_0_-0.01_0_0_0.jpg\n"
     ]
    }
   ],
   "source": [
    "# displacement in z\n",
    "\n",
    "try:\n",
    "\n",
    "    CameraRoboterI.Camera.init_camera()\n",
    "    CameraRoboterI.DataManager.set_brightness(50)\n",
    "\n",
    "    distance = CameraRoboterI.DataManager.set_displacement_in_z(-0.005)\n",
    "    CameraRoboterI.displacement_in_z(distance, save_image=True)\n",
    "    CameraRoboterI.move_linear_trajectory(0.016, 5, save_image=True)\n",
    "\n",
    "finally:\n",
    "\n",
    "    CameraRoboterI.Camera.close()\n",
    "    CameraRoboterI.return_to_ready_pose()\n",
    "\n",
    "CameraRoboterI.DataManager.set_displacement_in_z(0)"
   ]
  }
 ],
 "metadata": {
  "kernelspec": {
   "display_name": "Python 3",
   "language": "python",
   "name": "python3"
  },
  "language_info": {
   "codemirror_mode": {
    "name": "ipython",
    "version": 3
   },
   "file_extension": ".py",
   "mimetype": "text/x-python",
   "name": "python",
   "nbconvert_exporter": "python",
   "pygments_lexer": "ipython3",
   "version": "3.8.10"
  },
  "orig_nbformat": 4
 },
 "nbformat": 4,
 "nbformat_minor": 2
}
