{
 "cells": [
  {
   "cell_type": "code",
   "execution_count": 1,
   "metadata": {},
   "outputs": [],
   "source": [
    "from label_manager import LabelManager\n",
    "import os\n",
    "\n",
    "# 160 x 752 for split image\n",
    "\n",
    "folder_path = r\"C:\\Users\\tsx10\\PythonProjectsJupyter\\TUM\\FP\\Images\\images_07.06.23\"\n",
    "\n",
    "labelManager = LabelManager()\n",
    "subfolder_paths = labelManager.find_subfolder_path(folder_path)\n",
    "\n",
    "for subfolder_path in subfolder_paths:\n",
    "    labelManager.split_images(subfolder_path)\n"
   ]
  }
 ],
 "metadata": {
  "kernelspec": {
   "display_name": "Computer_Vision",
   "language": "python",
   "name": "python3"
  },
  "language_info": {
   "codemirror_mode": {
    "name": "ipython",
    "version": 3
   },
   "file_extension": ".py",
   "mimetype": "text/x-python",
   "name": "python",
   "nbconvert_exporter": "python",
   "pygments_lexer": "ipython3",
   "version": "3.9.16"
  },
  "orig_nbformat": 4
 },
 "nbformat": 4,
 "nbformat_minor": 2
}
